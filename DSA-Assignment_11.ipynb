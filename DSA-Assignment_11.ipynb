{
 "cells": [
  {
   "cell_type": "markdown",
   "metadata": {},
   "source": [
    "Given a non-negative integer x,return the square root of x rounded down to the nearest integer. The returned integer should be non-negative as well.You must not use any built-in exponent function or operator.For example, do not use pow(x, 0.5) in c++ or x ** 0.5 in python.Example 1:Input: x = 4\n",
    "Output: 2\n",
    "Explanation: The square root of 4 is 2, so we return 2.\n",
    "Example 2:Input: x = 8\n",
    "Output: 2\n",
    "Explanation: The square root of 8 is 2.82842..., and since we round it down to the nearest integer, 2 is returned."
   ]
  },
  {
   "cell_type": "code",
   "execution_count": 1,
   "metadata": {},
   "outputs": [],
   "source": [
    "def mySqrt(x):\n",
    "    if x == 0:\n",
    "        return 0\n",
    "\n",
    "    left, right = 1, x\n",
    "    while left <= right:\n",
    "        mid = left + (right - left) // 2\n",
    "        if mid * mid > x:\n",
    "            right = mid - 1\n",
    "        else:\n",
    "            left = mid + 1\n",
    "    return right\n"
   ]
  },
  {
   "cell_type": "markdown",
   "metadata": {},
   "source": [
    "A peak element is an element that is strictly greater than its neighbors.Given a 0-indexed integer array nums, find a peak element, and return its index. If the array contains multiple peaks, return the index to any of the peaks.You may imagine that nums[-1] = nums[n] = -∞. In other words, an element is always considered to be strictly greater than a neighbor that is outside the array.You must write an algorithm that runs in O(log n) time.Example 1:Input: nums = [1,2,3,1]\n",
    "Output: 2\n",
    "Explanation: 3 is a peak element and your function should return the index number 2.Example 2:Input: nums = [1,2,1,3,5,6,4]\n",
    "Output: 5\n",
    "Explanation: Your function can return either index number 1 where the peak element is 2, or index number 5 where the peak element is 6."
   ]
  },
  {
   "cell_type": "code",
   "execution_count": 2,
   "metadata": {},
   "outputs": [],
   "source": [
    "def findPeakElement(nums):\n",
    "    left, right = 0, len(nums) - 1\n",
    "\n",
    "    while left < right:\n",
    "        mid = left + (right - left) // 2\n",
    "        if nums[mid] < nums[mid + 1]:\n",
    "            left = mid + 1\n",
    "        else:\n",
    "            right = mid\n",
    "\n",
    "    return left\n"
   ]
  },
  {
   "cell_type": "markdown",
   "metadata": {},
   "source": [
    "Given an array nums containing n distinct numbers in the range [0, n], return the only number in the range that is missing from the array.Example 1:Input: nums = [3,0,1]\n",
    "Output: 2\n",
    "Explanation: n = 3 since there are 3 numbers, so all numbers are in the range [0,3]. 2 is the missing number in the range since it does not appear in nums.\n",
    "Example 2:Input: nums = [0,1]\n",
    "Output: 2\n",
    "Explanation: n = 2 since there are 2 numbers, so all numbers are in the range [0,2]. 2 is the missing number in the range since it does not appear in nums.\n",
    "Example 3:Input: nums = [9,6,4,2,3,5,7,0,1]\n",
    "Output: 8\n",
    "Explanation: n = 9 since there are 9 numbers, so all numbers are in the range [0,9]. 8 is the missing number in the range since it does not appear in nums."
   ]
  },
  {
   "cell_type": "code",
   "execution_count": 3,
   "metadata": {},
   "outputs": [],
   "source": [
    "def missingNumber(nums):\n",
    "    n = len(nums)\n",
    "    total_sum = (n * (n + 1)) // 2\n",
    "    array_sum = sum(nums)\n",
    "    return total_sum - array_sum\n"
   ]
  },
  {
   "cell_type": "markdown",
   "metadata": {},
   "source": [
    "Given an array of integers nums containing n + 1 integers where each integer is in the range [1, n] inclusive.There is only one repeated number in nums, return this repeated number.You must solve the problem without modifying the array nums and uses only constant extra space.Example 1:Input: nums = [1,3,4,2,2]\n",
    "Output: 2\n",
    "Example 2:Input: nums = [3,1,3,4,2]\n",
    "Output: 3"
   ]
  },
  {
   "cell_type": "code",
   "execution_count": 4,
   "metadata": {},
   "outputs": [],
   "source": [
    "def findDuplicate(nums):\n",
    "    slow = nums[0]\n",
    "    fast = nums[0]\n",
    "\n",
    "    # Move slow and fast pointers\n",
    "    # Slow moves 1 step at a time, fast moves 2 steps at a time\n",
    "    while True:\n",
    "        slow = nums[slow]\n",
    "        fast = nums[nums[fast]]\n",
    "        if slow == fast:\n",
    "            break\n",
    "\n",
    "    # Move slow pointer to the beginning\n",
    "    slow = nums[0]\n",
    "\n",
    "    # Move slow and fast pointers at the same speed (1 step at a time)\n",
    "    while slow != fast:\n",
    "        slow = nums[slow]\n",
    "        fast = nums[fast]\n",
    "\n",
    "    return slow\n"
   ]
  },
  {
   "cell_type": "markdown",
   "metadata": {},
   "source": [
    "Given two integer arrays nums1 and nums2, return an array of their intersection. Each element in the result must be unique and you may return the result in any order.Example 1:Input: nums1 = [1,2,2,1], nums2 = [2,2]\n",
    "Output: [2]\n",
    "Example 2:Input: nums1 = [4,9,5], nums2 = [9,4,9,8,4]\n",
    "Output: [9,4]\n",
    "Explanation: [4,9] is also accepted."
   ]
  },
  {
   "cell_type": "code",
   "execution_count": 5,
   "metadata": {},
   "outputs": [],
   "source": [
    "def intersection(nums1, nums2):\n",
    "    set1 = set(nums1)\n",
    "    set2 = set(nums2)\n",
    "    \n",
    "    return list(set1.intersection(set2))\n"
   ]
  },
  {
   "cell_type": "markdown",
   "metadata": {},
   "source": [
    "Suppose an array of length n sorted in ascending order is rotated between 1 and n times. For example, the array nums = [0,1,2,4,5,6,7] might become:[4,5,6,7,0,1,2] if it was rotated 4 times.[0,1,2,4,5,6,7] if it was rotated 7 times.Notice that rotating an array [a[0], a[1], a[2], ..., a[n-1]] 1 time results in the array [a[n-1], a[0], a[1], a[2], ..., a[n-2]].Given the sorted rotated array nums of unique elements, return the minimum element of this array.You must write an algorithm that runs in O(log n) time.Example 1:Input: nums = [3,4,5,1,2]\n",
    "Output: 1\n",
    "Explanation: The original array was [1,2,3,4,5] rotated 3 times.\n",
    "Example 2:Input: nums = [4,5,6,7,0,1,2]\n",
    "Output: 0\n",
    "Explanation: The original array was [0,1,2,4,5,6,7] and it was rotated 4 times.Example 3:Input: nums = [11,13,15,17]\n",
    "Output: 11\n",
    "Explanation: The original array was [11,13,15,17] and it was rotated 4 times."
   ]
  },
  {
   "cell_type": "code",
   "execution_count": 6,
   "metadata": {},
   "outputs": [],
   "source": [
    "def findMin(nums):\n",
    "    left = 0\n",
    "    right = len(nums) - 1\n",
    "\n",
    "    while left < right:\n",
    "        mid = left + (right - left) // 2\n",
    "\n",
    "        if nums[mid] > nums[right]:\n",
    "            left = mid + 1\n",
    "        else:\n",
    "            right = mid\n",
    "\n",
    "    return nums[left]\n"
   ]
  },
  {
   "cell_type": "markdown",
   "metadata": {},
   "source": [
    "Given an array of integers nums sorted in non-decreasing order, find the starting and ending position of a given target value.If target is not found in the array, return [-1, -1].You must write an algorithm with O(log n) runtime complexity.Example 1:Input: nums = [5,7,7,8,8,10], target = 8\n",
    "Output: [3,4]\n",
    "Example 2:Input: nums = [5,7,7,8,8,10], target = 6\n",
    "Output: [-1,-1]\n",
    "Example 3:Input: nums = [], target = 0\n",
    "Output: [-1,-1]"
   ]
  },
  {
   "cell_type": "code",
   "execution_count": 7,
   "metadata": {},
   "outputs": [],
   "source": [
    "def searchRange(nums, target):\n",
    "    # Find leftmost occurrence of target\n",
    "    left = binarySearch(nums, target, True)\n",
    "    \n",
    "    # If target is not found, return [-1, -1]\n",
    "    if left == -1:\n",
    "        return [-1, -1]\n",
    "    \n",
    "    # Find rightmost occurrence of target\n",
    "    right = binarySearch(nums, target, False)\n",
    "    \n",
    "    return [left, right]\n",
    "\n",
    "\n",
    "def binarySearch(nums, target, leftmost):\n",
    "    left = 0\n",
    "    right = len(nums) - 1\n",
    "    result = -1\n",
    "    \n",
    "    while left <= right:\n",
    "        mid = left + (right - left) // 2\n",
    "        \n",
    "        if nums[mid] == target:\n",
    "            result = mid\n",
    "            if leftmost:\n",
    "                right = mid - 1  # Search for leftmost occurrence\n",
    "            else:\n",
    "                left = mid + 1   # Search for rightmost occurrence\n",
    "        elif nums[mid] < target:\n",
    "            left = mid + 1\n",
    "        else:\n",
    "            right = mid - 1\n",
    "    \n",
    "    return result\n"
   ]
  },
  {
   "cell_type": "markdown",
   "metadata": {},
   "source": [
    "Given two integer arrays nums1 and nums2, return an array of their intersection. Each element in the result must appear as many times as it shows in both arrays and you may return the result in any order.Example 1:Input: nums1 = [1,2,2,1], nums2 = [2,2]\n",
    "Output: [2,2]\n",
    "Example 2:Input: nums1 = [4,9,5], nums2 = [9,4,9,8,4]\n",
    "Output: [4,9]\n",
    "Explanation: [9,4] is also accepted."
   ]
  },
  {
   "cell_type": "code",
   "execution_count": 8,
   "metadata": {},
   "outputs": [],
   "source": [
    "from collections import Counter\n",
    "\n",
    "def intersect(nums1, nums2):\n",
    "    # Count the frequency of elements in nums1\n",
    "    freq = Counter(nums1)\n",
    "    \n",
    "    # List to store the intersection\n",
    "    intersection = []\n",
    "    \n",
    "    # Iterate over nums2 and check for common elements\n",
    "    for num in nums2:\n",
    "        if num in freq and freq[num] > 0:\n",
    "            intersection.append(num)\n",
    "            freq[num] -= 1\n",
    "    \n",
    "    return intersection\n"
   ]
  }
 ],
 "metadata": {
  "kernelspec": {
   "display_name": "Python 3",
   "language": "python",
   "name": "python3"
  },
  "language_info": {
   "codemirror_mode": {
    "name": "ipython",
    "version": 3
   },
   "file_extension": ".py",
   "mimetype": "text/x-python",
   "name": "python",
   "nbconvert_exporter": "python",
   "pygments_lexer": "ipython3",
   "version": "3.11.3"
  },
  "orig_nbformat": 4
 },
 "nbformat": 4,
 "nbformat_minor": 2
}
